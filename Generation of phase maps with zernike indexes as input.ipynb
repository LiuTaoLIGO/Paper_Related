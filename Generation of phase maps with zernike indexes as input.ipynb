{
 "cells": [
  {
   "cell_type": "code",
   "execution_count": 1,
   "metadata": {},
   "outputs": [
    {
     "name": "stdout",
     "output_type": "stream",
     "text": [
      "                                              ..-\n",
      "    PyKat 1.2.1           _                  '(\n",
      "                          \\`.|\\.__...-\"\"\"\"-_.\" )\n",
      "       ..+-----.._        /  ' `            .-'\n",
      "   . '            `:      7/* _/._\\    \\   (\n",
      "  (        '::;;+;;:      `-\"' =\" /,`\"\" `) /\n",
      "  L.        \\`:::a:f            c_/     n_'\n",
      "  ..`--...___`.  .    ,\n",
      "   `^-....____:   +.      www.gwoptics.org/pykat\n",
      "\n"
     ]
    }
   ],
   "source": [
    "import os\n",
    "import time\n",
    "import fileinput\n",
    "import numpy as np  \n",
    "import matplotlib.pyplot as plt    \n",
    "from scipy.special import factorial\n",
    "\n",
    "import pykat.optics.maps as pkm\n",
    "from pykat import finesse                 \n",
    "from pykat.commands import *               \n",
    "from pykat.optics.maps import *            \n",
    "from IPython.display import display, HTML\n",
    "\n",
    "\n",
    "%config InlineBackend.figure_format='svg'\n",
    "%matplotlib inline\n",
    "pykat.init_pykat_plotting(dpi=90)"
   ]
  },
  {
   "cell_type": "markdown",
   "metadata": {},
   "source": [
    "## Content:\n",
    "This notebook is to write a function to generate Zernike maps with the order and amplitude as input\n",
    "\n",
    "### Note:\n",
    "Need to set the four corners to zero because Zernike maps only work on unit disk "
   ]
  },
  {
   "cell_type": "code",
   "execution_count": 4,
   "metadata": {},
   "outputs": [],
   "source": [
    "def insert(originalfile,string): # This function is to add the map header before the map data \n",
    "    with open(originalfile,'r') as f:\n",
    "        with open('temp.txt','w') as f2: \n",
    "            f2.write(string)\n",
    "            f2.write(f.read())\n",
    "    os.rename('temp.txt',originalfile)\n",
    "\n",
    "\n",
    "def Znm(order, n, m, verbose=True, shape=1131, radius=0.15, step_size=0.0002669951063580811): # radius is the cropping radius\n",
    "    center = (shape-1)/2 # Center of the map\n",
    "    rrange = radius/step_size # Range of the map such that the radius is 0.15 for a given step_size\n",
    "    \n",
    "    def theta(x,y):\n",
    "        phi = np.arctan2(y, x)\n",
    "        return phi\n",
    "\n",
    "    def radial(x,y,n,m):\n",
    "        if m<0:\n",
    "            m=-m\n",
    "        sum=0\n",
    "        for k in range(int((n-m)/2)+1):   \n",
    "            r=(-1)**k*factorial(n-k)/factorial(k)/factorial((n+m)/2-k)/factorial((n-m)/2-k)*((x**2+y**2)/(rrange**2))**(n/2-k)\n",
    "            # Here I used '(x**2+y**2)/(rrange**2)' instead of just '(x**2+y**2)' to normalize the radius\n",
    "            sum+=r\n",
    "        return sum\n",
    "\n",
    "    def angular(x,y,n,m): \n",
    "        a=theta(x,y)\n",
    "        if m>=0:\n",
    "            angular=np.cos(m*a)\n",
    "        else:\n",
    "            angular=-np.sin(m*a)\n",
    "        return angular\n",
    "\n",
    "    stepRange = np.arange(shape)-center\n",
    "    x,y=np.meshgrid(stepRange,stepRange,sparse=True)\n",
    "    zfunc=radial(x,y,n,m)*angular(x,y,n,m)\n",
    "    for i in range(shape):\n",
    "        for j in range(shape): \n",
    "            if (i-center)**2+(j-center)**2>= rrange**2:\n",
    "                zfunc[i][j]=0 # Set the values outside the cropping radius to zero\n",
    "    mapData=order*zfunc/np.abs(zfunc).max() # Such that the amplitude(maximum value in the map data) equals to 'order'\n",
    "\n",
    "    \n",
    "    header =f'''% Surface map\n",
    "% Name: Z{n}{m}order{order}phasemap\n",
    "% Type: phase both\n",
    "% Size: {shape} {shape}\n",
    "% Optical center (x,y): {center} {center}\n",
    "% Step size (x,y): {step_size} {step_size}\n",
    "% Scaling: 1e-09\\n\\n\\n'''\n",
    "    \n",
    "    if not (n-m)%2 and step_size*(shape-1)>radius:# Check for right zernike index and right cropping radius, which \n",
    "        # has to be smaller than the mirror size\n",
    "        repo='Znmmaps/'\n",
    "        filename=f'Z{n}{m}order{order}phasemap.txt'\n",
    "        np.savetxt(repo+filename, mapData, delimiter=' ',fmt='%1.6f')\n",
    "        insert(repo+filename, header) \n",
    "        if verbose: # If verbose set to false(default is true), it will not plot the map\n",
    "            fig1=pkm.read_map(repo+filename, mapFormat='finesse').plot()\n",
    "    else:\n",
    "        print(\"Invalid indexes or cropping radius\")"
   ]
  },
  {
   "cell_type": "code",
   "execution_count": 4,
   "metadata": {},
   "outputs": [
    {
     "name": "stderr",
     "output_type": "stream",
     "text": [
      "/opt/anaconda3/lib/python3.7/site-packages/ipykernel_launcher.py:14: RuntimeWarning: divide by zero encountered in true_divide\n",
      "  \n",
      "/opt/anaconda3/lib/python3.7/site-packages/ipykernel_launcher.py:14: RuntimeWarning: invalid value encountered in true_divide\n",
      "  \n"
     ]
    }
   ],
   "source": [
    "for n in range(10):\n",
    "    for m in range(-n, n+1, 2):\n",
    "        Znm(1,n,m,shape=1131,radius=0.15,step_size=0.0002669951063580811,verbose=False)"
   ]
  },
  {
   "cell_type": "code",
   "execution_count": 5,
   "metadata": {},
   "outputs": [
    {
     "name": "stderr",
     "output_type": "stream",
     "text": [
      "/opt/anaconda3/lib/python3.7/site-packages/ipykernel_launcher.py:14: RuntimeWarning: divide by zero encountered in true_divide\n",
      "  \n",
      "/opt/anaconda3/lib/python3.7/site-packages/ipykernel_launcher.py:14: RuntimeWarning: invalid value encountered in true_divide\n",
      "  \n"
     ]
    }
   ],
   "source": [
    "Znm(0,2,2,shape=1131,radius=0.15,step_size=0.0002669951063580811,verbose=False)"
   ]
  },
  {
   "cell_type": "code",
   "execution_count": null,
   "metadata": {},
   "outputs": [],
   "source": []
  }
 ],
 "metadata": {
  "kernelspec": {
   "display_name": "Python 3",
   "language": "python",
   "name": "python3"
  },
  "language_info": {
   "codemirror_mode": {
    "name": "ipython",
    "version": 3
   },
   "file_extension": ".py",
   "mimetype": "text/x-python",
   "name": "python",
   "nbconvert_exporter": "python",
   "pygments_lexer": "ipython3",
   "version": "3.7.4"
  }
 },
 "nbformat": 4,
 "nbformat_minor": 2
}

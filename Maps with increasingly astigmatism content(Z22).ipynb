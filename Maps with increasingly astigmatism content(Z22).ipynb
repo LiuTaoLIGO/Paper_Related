{
 "cells": [
  {
   "cell_type": "code",
   "execution_count": 1,
   "metadata": {},
   "outputs": [
    {
     "name": "stdout",
     "output_type": "stream",
     "text": [
      "                                              ..-\n",
      "    PyKat 1.2.1           _                  '(\n",
      "                          \\`.|\\.__...-\"\"\"\"-_.\" )\n",
      "       ..+-----.._        /  ' `            .-'\n",
      "   . '            `:      7/* _/._\\    \\   (\n",
      "  (        '::;;+;;:      `-\"' =\" /,`\"\" `) /\n",
      "  L.        \\`:::a:f            c_/     n_'\n",
      "  ..`--...___`.  .    ,\n",
      "   `^-....____:   +.      www.gwoptics.org/pykat\n",
      "\n"
     ]
    }
   ],
   "source": [
    "import numpy as np\n",
    "import pandas as pd  \n",
    "import matplotlib.pyplot as plt  \n",
    "\n",
    "import pykat.optics.maps as pkm\n",
    "from pykat import finesse                 \n",
    "from pykat.commands import *               \n",
    "from pykat.optics.maps import *            \n",
    "from IPython.display import display, HTML\n",
    "from scipy.special import factorial\n",
    "import fileinput\n",
    "\n",
    "%matplotlib inline\n",
    "pykat.init_pykat_plotting(dpi=90)"
   ]
  },
  {
   "cell_type": "markdown",
   "metadata": {},
   "source": [
    "## Content:\n",
    "This file is about generating maps with increasing Zernike 22 content.\n",
    "\n",
    "1. The original map is 'xITM_11_R1_Figure_finesse.txt' because its HG33 loss is ~0.2, which gives enough 'room' for this 'adding more astigmatism to reduce HG33 loss' method to work(unlike other measured maps the losses are either too small or too large).\n",
    "\n",
    "2. The map 'xITM_11_R1_Figure_finesse.txt' is of shape 1133*1133 but both the zernike maps and random maps are of shape 1131*1131. So need to create zernike basis of shape 1133*1133, see below.\n",
    "\n",
    "3. Create a map 'mapwithoutZ22.txt' from 'xITM_11_R1_Figure_finesse' after getting rid of the Zernike 22, which will be used later when using different radius of curvature in the x and y to represent the astigmatism."
   ]
  },
  {
   "cell_type": "code",
   "execution_count": 2,
   "metadata": {},
   "outputs": [],
   "source": [
    "# Generate Zernike basis of shape(1133*1133)\n",
    "def Znm(shape, radius, step_size, n, m): \n",
    "    center = (shape-1)/2\n",
    "    rrange = radius/step_size\n",
    "    \n",
    "    def theta(x,y):\n",
    "        phi = np.arctan2(y, x)\n",
    "        return phi\n",
    "\n",
    "    def radial(x,y,n,m):\n",
    "        if m<0:\n",
    "            m=-m\n",
    "        sum=0\n",
    "        for k in range(int((n-m)/2)+1):   \n",
    "            r=(-1)**k*factorial(n-k)/factorial(k)/factorial((n+m)/2-k)/factorial((n-m)/2-k)*((x**2+y**2)/(rrange**2))**(n/2-k)\n",
    "            sum+=r\n",
    "        return sum\n",
    "\n",
    "    def angular(x,y,n,m): \n",
    "        a=theta(x,y)\n",
    "        if m>=0:\n",
    "            angular=np.cos(m*a)\n",
    "        else:\n",
    "            angular=-np.sin(m*a)\n",
    "        return angular\n",
    "\n",
    "    stepRange = np.arange(shape)-center\n",
    "    x,y=np.meshgrid(stepRange,stepRange,sparse=True)\n",
    "    zfunc=radial(x,y,n,m)*angular(x,y,n,m)\n",
    "    for i in range(shape):\n",
    "        for j in range(shape): \n",
    "            if (i-center)**2+(j-center)**2 >= rrange**2:\n",
    "                zfunc[i][j]=0\n",
    "    zmap=zfunc/np.abs(zfunc).max()\n",
    "\n",
    "    return zmap\n",
    "\n",
    "Z22=Znm(1133,0.15,0.0002667510125320405,2,2)"
   ]
  },
  {
   "cell_type": "code",
   "execution_count": 4,
   "metadata": {},
   "outputs": [
    {
     "name": "stdout",
     "output_type": "stream",
     "text": [
      "The Z22 content in the original aLIGO map is 0.12014186205896264 nm\n"
     ]
    }
   ],
   "source": [
    "filename='aLIGOmeasuredmaps/xITM_11_R1_Figure_finesse.txt'\n",
    "aLIGO=pd.read_csv(filename, header=None, sep=\" \", skiprows=9).dropna(axis=1).values\n",
    "\n",
    "coeff=(aLIGO*Z22).sum()/((Z22**2).sum())\n",
    "print(f'The Z22 content in the original aLIGO map is {coeff} nm')"
   ]
  },
  {
   "cell_type": "code",
   "execution_count": 5,
   "metadata": {},
   "outputs": [],
   "source": [
    "filename='aLIGOmeasuredmaps/xITM_11_R1_Figure_finesse.txt'\n",
    "aLIGO=pd.read_csv(filename, header=None, sep=\" \", skiprows=9).dropna(axis=1).values\n",
    "\n",
    "# Function that add more Z22 to the mapfile\n",
    "def insert(originalfile,string): # Add the header before the mapdata\n",
    "    with open(originalfile,'r') as f:\n",
    "        with open('temp.txt','w') as f2: \n",
    "            f2.write(string)\n",
    "            f2.write(f.read())\n",
    "    os.rename('temp.txt',originalfile)\n",
    "\n",
    "with open('aLIGOmeasuredmaps/xITM_11_R1_Figure_finesse.txt') as myfile: # take the header from the aLIGO measured map\n",
    "    head = [next(myfile) for x in range(9)]\n",
    "    header=\"\".join(head)\n",
    "\n",
    "def AddZ22(value, filename):\n",
    "    mapData = aLIGO + value*Z22\n",
    "    np.savetxt(filename, mapData, delimiter=' ',fmt='%1.6f')\n",
    "    insert(filename, f'''{header}''') "
   ]
  },
  {
   "cell_type": "code",
   "execution_count": 6,
   "metadata": {},
   "outputs": [
    {
     "data": {
      "text/plain": [
       "-2.8680541594027596e-10"
      ]
     },
     "execution_count": 6,
     "metadata": {},
     "output_type": "execute_result"
    }
   ],
   "source": [
    "# The map after getting rid of Z22 in 'xITM_11_R1_Figure_finesse', called mapwithoutZ22\n",
    "restData = aLIGO - Z22*0.12014186205896284 \n",
    "np.savetxt('mapwithoutZ22.txt', restData, delimiter=' ',fmt='%1.6f')\n",
    "insert('mapwithoutZ22.txt', f'''{header}''') \n",
    "\n",
    "# check the A22 is indeed zero in 'mapwithoutZ22'\n",
    "Mapdata = pd.read_csv('mapwithoutZ22.txt', header=None, sep=\" \", skiprows=9).dropna(axis=1).values\n",
    "coeff = (Mapdata*Z22).sum()/((Z22**2).sum())\n",
    "coeff"
   ]
  },
  {
   "cell_type": "code",
   "execution_count": 19,
   "metadata": {},
   "outputs": [],
   "source": [
    "i = 0\n",
    "for value in np.linspace(0, 100, 44):\n",
    "    AddZ22(value=value, filename=f'Z22maps/Z22map{i}.txt')\n",
    "    i += 1"
   ]
  },
  {
   "cell_type": "code",
   "execution_count": null,
   "metadata": {},
   "outputs": [],
   "source": []
  }
 ],
 "metadata": {
  "kernelspec": {
   "display_name": "Python 3",
   "language": "python",
   "name": "python3"
  },
  "language_info": {
   "codemirror_mode": {
    "name": "ipython",
    "version": 3
   },
   "file_extension": ".py",
   "mimetype": "text/x-python",
   "name": "python",
   "nbconvert_exporter": "python",
   "pygments_lexer": "ipython3",
   "version": "3.7.4"
  }
 },
 "nbformat": 4,
 "nbformat_minor": 2
}

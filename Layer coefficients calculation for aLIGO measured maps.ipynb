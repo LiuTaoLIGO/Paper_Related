{
 "cells": [
  {
   "cell_type": "code",
   "execution_count": 1,
   "metadata": {},
   "outputs": [
    {
     "name": "stdout",
     "output_type": "stream",
     "text": [
      "                                              ..-\n",
      "    PyKat 1.2.1           _                  '(\n",
      "                          \\`.|\\.__...-\"\"\"\"-_.\" )\n",
      "       ..+-----.._        /  ' `            .-'\n",
      "   . '            `:      7/* _/._\\    \\   (\n",
      "  (        '::;;+;;:      `-\"' =\" /,`\"\" `) /\n",
      "  L.        \\`:::a:f            c_/     n_'\n",
      "  ..`--...___`.  .    ,\n",
      "   `^-....____:   +.      www.gwoptics.org/pykat\n",
      "\n"
     ]
    }
   ],
   "source": [
    "import numpy as np\n",
    "import pandas as pd    \n",
    "import matplotlib.pyplot as plt\n",
    "\n",
    "import pykat.optics.maps as pkm\n",
    "from pykat import finesse                 \n",
    "from pykat.commands import *               \n",
    "from pykat.optics.maps import *            \n",
    "from scipy.special import factorial\n",
    "import fileinput\n",
    "\n",
    "%matplotlib inline\n",
    "pykat.init_pykat_plotting(dpi=90)"
   ]
  },
  {
   "cell_type": "markdown",
   "metadata": {},
   "source": [
    "## Content:\n",
    "1. This file is about calculating the layer coefficients from one particular aLIGO measured map 'ETM05_S1_finesse'\n",
    "\n",
    "2. The layer coefficients calculated here are used to generate random maps in notebook 'Random maps generation with ETM05_S1_finesse.ipynb'('Random' for later)\n",
    "\n",
    "3. In order to test that the functions in this file and in 'Random' are working properly, a test file 'testing.txt' is generated in 'Random' with the fake layer coefficients [0,0,1,2,3,4,5,6,7,8] and is decomposed in this file, the resulting coefficients are close to [0,0,1,2,3,4,5,6,7,8], see below."
   ]
  },
  {
   "cell_type": "code",
   "execution_count": 2,
   "metadata": {},
   "outputs": [],
   "source": [
    "# return a list of Zernike maps(basis) for aLIGO maps to project to\n",
    "def Zernikes(shape, radius, step_size, max_zern):\n",
    "    center = (shape-1)/2 # Center of the map\n",
    "    rrange = radius/step_size  # Range of the map such that the radius is 0.15 for a given step_size\n",
    "    zernikes=[] # list of Zernike maps\n",
    "\n",
    "    # This is the same set of functions in the Zernike maps generation notebook\n",
    "    def theta(x,y):\n",
    "        phi = np.arctan2(y, x)\n",
    "        return phi\n",
    "\n",
    "    def radial(x,y,n,m):\n",
    "        if m<0:\n",
    "            m=-m\n",
    "        sum=0\n",
    "        for k in range(int((n-m)/2)+1):   \n",
    "            r=(-1)**k*factorial(n-k)/factorial(k)/factorial((n+m)/2-k)/factorial((n-m)/2-k)*((x**2+y**2)/(rrange**2))**(n/2-k)\n",
    "            # Here I used '(x**2+y**2)/(rrange**2)' instead of just '(x**2+y**2)' to normalize the radius\n",
    "            sum+=r\n",
    "        return sum\n",
    "\n",
    "    def angular(x,y,n,m): \n",
    "        a=theta(x,y)\n",
    "        if m>=0:\n",
    "            angular=np.cos(m*a)\n",
    "        else:\n",
    "            angular=-np.sin(m*a)\n",
    "        return angular\n",
    "    \n",
    "    for n in range(max_zern):\n",
    "        for m in range(-n,n+1,2):\n",
    "            stepRange = np.arange(shape)-center\n",
    "            x,y=np.meshgrid(stepRange,stepRange,sparse=True)\n",
    "            zfunc=radial(x,y,n,m)*angular(x,y,n,m)\n",
    "            for i in range(shape):\n",
    "                for j in range(shape): \n",
    "                    if (i-center)**2+(j-center)**2>= rrange**2:\n",
    "                        zfunc[i][j]=0  # Set the values outside the cropping radius to zero\n",
    "            zmap=zfunc/np.abs(zfunc).max() # Such that the amplitude(maximum value in the map data) equals to 1\n",
    "            zernikes.append(zmap)\n",
    "    return zernikes # Return a list of Zernike maps"
   ]
  },
  {
   "cell_type": "code",
   "execution_count": 3,
   "metadata": {},
   "outputs": [],
   "source": [
    "def layerCoeffs(filename, zernikebasis, order=10):\n",
    "    i=0 # Create a conversion between {n}{m} to {i}\n",
    "    dic={}\n",
    "    for n in range(order):\n",
    "        for m in range(-n,n+1,2):\n",
    "            dic[f'{n}{m}']=i\n",
    "            i=i+1\n",
    "\n",
    "    aLIGO=pd.read_csv(filename, header=None, sep=\" \", skiprows=9).dropna(axis=1).values\n",
    "    \n",
    "    layerCoeff=[0,0] # Two zeros represent the first two layer coefficients\n",
    "    for n in range(2,order): # Start from the third layer\n",
    "        layer=0\n",
    "        for m in range(-n,n+1,2):\n",
    "            index=dic[f'{n}{m}']\n",
    "            coeff=((aLIGO*zernikebasis[index]).sum())/((zernikebasis[index]**2).sum())\n",
    "            if n==2 and m==0: # The coefficient of Z20 will not be added to the layer coefficient since it can be removed manually\n",
    "                continue\n",
    "            else:\n",
    "                layer+=coeff**2\n",
    "        layerCoeff.append(np.sqrt(layer))\n",
    "    return layerCoeff"
   ]
  },
  {
   "cell_type": "code",
   "execution_count": 11,
   "metadata": {},
   "outputs": [
    {
     "name": "stderr",
     "output_type": "stream",
     "text": [
      "/opt/anaconda3/lib/python3.7/site-packages/ipykernel_launcher.py:7: RuntimeWarning: divide by zero encountered in true_divide\n",
      "  import sys\n",
      "/opt/anaconda3/lib/python3.7/site-packages/ipykernel_launcher.py:7: RuntimeWarning: invalid value encountered in true_divide\n",
      "  import sys\n"
     ]
    },
    {
     "data": {
      "text/plain": [
       "[0,\n",
       " 0,\n",
       " 0.9991220531215063,\n",
       " 1.9998863264067825,\n",
       " 2.9992921522027496,\n",
       " 4.001539932389178,\n",
       " 4.99919168488248,\n",
       " 5.999938721040349,\n",
       " 6.9989494338149845,\n",
       " 8.002108867401773]"
      ]
     },
     "execution_count": 11,
     "metadata": {},
     "output_type": "execute_result"
    }
   ],
   "source": [
    "# Testing of random map generation\n",
    "# the 'testing.txt' was generated in the random maps generation file with layer coefficients of [0,0,1,2,3,4,5,6,7,8]\n",
    "layerCoeffs('testing.txt',Zernikes(1131,0.15,0.0002669951063580811,10))"
   ]
  },
  {
   "cell_type": "code",
   "execution_count": 4,
   "metadata": {},
   "outputs": [
    {
     "name": "stderr",
     "output_type": "stream",
     "text": [
      "/opt/anaconda3/lib/python3.7/site-packages/ipykernel_launcher.py:7: RuntimeWarning: divide by zero encountered in true_divide\n",
      "  import sys\n",
      "/opt/anaconda3/lib/python3.7/site-packages/ipykernel_launcher.py:7: RuntimeWarning: invalid value encountered in true_divide\n",
      "  import sys\n"
     ]
    },
    {
     "data": {
      "text/plain": [
       "[0,\n",
       " 0,\n",
       " 0.20190713375335292,\n",
       " 0.1458974321372058,\n",
       " 0.13728131907327343,\n",
       " 0.0647602622253127,\n",
       " 0.0639643843456696,\n",
       " 0.06163558192765335,\n",
       " 0.11786865519746435,\n",
       " 0.10733282124903537]"
      ]
     },
     "execution_count": 4,
     "metadata": {},
     "output_type": "execute_result"
    }
   ],
   "source": [
    "layerCoeffs('aLIGOmeasuredmaps/ETM05_S1_finesse.txt',Zernikes(1131,0.15,0.0002669951063580811,10))\n",
    "\n",
    "# Use these set of values to generate the random maps"
   ]
  },
  {
   "cell_type": "code",
   "execution_count": null,
   "metadata": {},
   "outputs": [],
   "source": []
  }
 ],
 "metadata": {
  "kernelspec": {
   "display_name": "Python 3",
   "language": "python",
   "name": "python3"
  },
  "language_info": {
   "codemirror_mode": {
    "name": "ipython",
    "version": 3
   },
   "file_extension": ".py",
   "mimetype": "text/x-python",
   "name": "python",
   "nbconvert_exporter": "python",
   "pygments_lexer": "ipython3",
   "version": "3.7.4"
  }
 },
 "nbformat": 4,
 "nbformat_minor": 2
}
